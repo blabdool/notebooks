{
 "metadata": {
  "name": ""
 },
 "nbformat": 3,
 "nbformat_minor": 0,
 "worksheets": [
  {
   "cells": [
    {
     "cell_type": "markdown",
     "metadata": {},
     "source": [
      "A lot of my research is based around developing and testing heuristic algorithms for various computation problems, in particular, I try to develop and adapt vector-packing based heuristics for scheduling virtual machines in distributed heterogeneous environments.\n",
      "\n",
      "Toward this end, I've spent a fair amount of time investigating the large data trace released by google in 2011. The trace is available through Google Cloud Storage, and can be downloaded using the gsutil utility, which can be installed in a python virtual environment via pypi/pip.\n",
      "\n",
      "I want to be able to use this trace to generate synthetic problem instances to use to test my heuristics."
     ]
    },
    {
     "cell_type": "code",
     "collapsed": false,
     "input": [
      "from os import listdir, chdir\n",
      "chdir('google-clusterdata-2011-1')\n",
      "print listdir('.')"
     ],
     "language": "python",
     "metadata": {},
     "outputs": [
      {
       "metadata": {},
       "output_type": "pyout",
       "prompt_number": 7,
       "text": [
        "['task_events',\n",
        " 'scripts',\n",
        " 'machine_events',\n",
        " 'README',\n",
        " 'machine_attributes',\n",
        " 'schema.csv',\n",
        " 'job_events',\n",
        " 'MD5SUM',\n",
        " 'runme.txt',\n",
        " 'task_constraints',\n",
        " 'task_usage',\n",
        " 'SHA1SUM',\n",
        " 'SHA256SUM']"
       ]
      }
     ],
     "prompt_number": 7
    },
    {
     "cell_type": "markdown",
     "metadata": {},
     "source": [
      "The trace directory includes a number of sub-directories, each of which in turn is populated by some number of csv (comma separated values) files. These files have names like part-XXXXX-of-YYYYY.csv.gz, so should really be considered part of a continuous data stream. The values contained in the files for each directory file are described in the [documentation](https://code.google.com/p/googleclusterdata/wiki/TraceVersion2) and the schema.csv file. In places where they conflict schema.csv takes precedence.\n",
      "\n",
      "According to both the documentation and schema.csv, the task event csv files contain the fields 'time', 'missing info', 'job ID', 'task index', 'machine_id', 'event type', 'user', 'scheduling class', 'priority', 'cpu request', 'memory request', 'disk space request', 'different machines restriction'. The most important for my purposes are probably 'time', 'event type', 'cpu request', and 'memory request'. The 'job ID' and 'task index' fields are needed to keep track of the evolution of a given task over time. The 'disk space request' field sounds interesting, but note that there is no corresponding disk-space field for a particular machine. The 'different machines restriction' field looks interesting, but I'm going to ignore it for now.\n",
      "\n",
      "The first thing to observe is that it's not possible using this schema to simply look up the characteristics of a single task, or group of tasks. Rather, it's necessary to simulate the execution of the trace from the beginning (timestamp = 0) to a particular moment in time, and then one can investigate the state of only the tasks that are currently executing at that moment in time.\n",
      "\n",
      "The first thing to do is to note that the content of the files is arranged in simple chronological order, we know that the first moment in the trace occurs at timestamp 0, and to find the last moment we can simply look for the last event in the last file. The python data analysis library makes loading compressed csv files from disk and working with column-oriented data relatively simple."
     ]
    },
    {
     "cell_type": "code",
     "collapsed": false,
     "input": [
      "print sorted(listdir('task_events'))[-1]"
     ],
     "language": "python",
     "metadata": {},
     "outputs": [
      {
       "output_type": "stream",
       "stream": "stdout",
       "text": [
        "part-00499-of-00500.csv.gz\n"
       ]
      }
     ],
     "prompt_number": 15
    },
    {
     "cell_type": "code",
     "collapsed": false,
     "input": [
      "from pandas import read_csv\n",
      "from os import path\n",
      "task_events_csv_colnames = ['time', 'missing', 'job_id', 'task_idx', 'machine_id', 'event_type', 'user', 'sched_cls', \n",
      "                            'priority', 'cpu', 'mem', 'disk', 'restriction']         \n",
      "task_event_df = read_csv(path.join('task_events', 'part-00499-of-00500.csv.gz'), header=None, index_col=False, compression='gzip',\n",
      "         names=task_events_csv_colnames)\n",
      "print task_event_df\n",
      "print\n",
      "print max(task_event_df['time'])"
     ],
     "language": "python",
     "metadata": {},
     "outputs": [
      {
       "output_type": "stream",
       "stream": "stdout",
       "text": [
        "<class 'pandas.core.frame.DataFrame'>\n",
        "Int64Index: 133410 entries, 0 to 133409\n",
        "Data columns (total 13 columns):\n",
        "time           133410  non-null values\n",
        "missing        5  non-null values\n",
        "job_id         133410  non-null values\n",
        "task_idx       133410  non-null values\n",
        "machine_id     82949  non-null values\n",
        "event_type     133410  non-null values\n",
        "user           133410  non-null values\n",
        "sched_cls      133410  non-null values\n",
        "priority       133410  non-null values\n",
        "cpu            133410  non-null values\n",
        "mem            133410  non-null values\n",
        "disk           133410  non-null values\n",
        "restriction    133410  non-null values\n",
        "dtypes: float64(5), int64(6), object(2)\n",
        "\n",
        "2506199602822\n"
       ]
      }
     ],
     "prompt_number": 14
    },
    {
     "cell_type": "markdown",
     "metadata": {},
     "source": [
      "So, the last event timestamp is 250619902822. \n",
      "\n",
      "Since the trace is very large, it would be difficult to analyse the whole thing at once. What I propose to do instead is to define a sample of moments from which to collect statistics, primarily requested utilization, as well as a single moment in time for which to capture all of the information available about running tasks at that moment for further analysis."
     ]
    },
    {
     "cell_type": "code",
     "collapsed": false,
     "input": [
      "from random import randint, sample, seed\n",
      "seed(47)\n",
      "sample_moments = iter(sorted(sample(xrange(250619902823), 1000)))\n",
      "snapshot_moment = randint(0, 250619902822)\n",
      "print snapshot_moment"
     ],
     "language": "python",
     "metadata": {},
     "outputs": [
      {
       "output_type": "stream",
       "stream": "stdout",
       "text": [
        "15753693054\n"
       ]
      }
     ],
     "prompt_number": 26
    },
    {
     "cell_type": "code",
     "collapsed": false,
     "input": [
      "from pandas import DataFrame\n",
      "tasks_dict = {}\n",
      "sample_tuples = []\n",
      "current_sample_moment = next(sample_moments)\n",
      "tasks_df = None\n",
      "\n",
      "# Not the most elegant code I've ever written...\n",
      "for fn in sorted(listdir('task_events')):\n",
      "    fp = path.join('task_events', fn)\n",
      "    task_events_df = read_csv(fp, header=None, index_col=False, compression='gzip', names=task_events_csv_colnames)\n",
      "    for index, event in task_events_df.iterrows():\n",
      "        if current_sample_moment is not None and event['time'] > current_sample_moment:\n",
      "            tmp_tasks_df = DataFrame(tasks_dict.values())\n",
      "            sample_tuples.append((current_sample_moment, sum(tmp_tasks_df['cpu']), sum(tmp_tasks_df['mem'])))\n",
      "            try:\n",
      "                current_sample_moment = next(sample_moments)\n",
      "            except StopIteration:\n",
      "                current_sample_moment = None\n",
      "        if tasks_df is None and event['time'] > snapshot_moment:\n",
      "            tasks_df = DataFrame(tasks_dict.values())\n",
      "        if event['event_type'] in [0, 7, 8]:\n",
      "            tasks_dict[(event['job_id'], event['task_idx'])] = {'task_id' : (event['job_id'], event['task_idx']),\n",
      "                                                                'machine_id' : event['machine_id'],\n",
      "                                                                'cpu' : event['cpu'], 'mem' : event['mem']}\n",
      "        elif event['event_type'] in [2, 3, 4, 5, 6]:\n",
      "            del tasks_dict[(event['job_id'], event['task_idx'])]\n",
      "    if tasks_df is not None and current_sample_moment is None:\n",
      "        break\n",
      "                    \n",
      "tasks_df = DataFrame(tasks_dict.values())\n",
      "print tasks_df"
     ],
     "language": "python",
     "metadata": {},
     "outputs": [
      {
       "output_type": "stream",
       "stream": "stdout",
       "text": [
        "<class 'pandas.core.frame.DataFrame'>\n",
        "Int64Index: 151711 entries, 0 to 151710\n",
        "Data columns (total 4 columns):\n",
        "cpu           151614  non-null values\n",
        "machine_id    45939  non-null values\n",
        "mem           151614  non-null values\n",
        "task_id       151711  non-null values\n",
        "dtypes: float64(3), object(1)\n"
       ]
      }
     ],
     "prompt_number": 29
    },
    {
     "cell_type": "markdown",
     "metadata": {},
     "source": [
      "The first thing to look at are the data files under 'machine_events'--actually, there's only one data file in here, though it's named with the same scheme as files in the more populated directories: part-00001-of-00001.csv.gz. From the [documentation](https://code.google.com/p/googleclusterdata/wiki/TraceVersion2), or by looking in the 'schema.csv' file, we know that the csv files in this directory have five fields: time, machine ID, event type, platform ID, cpu capacity, and memory capacity. The event type is an integer, 0, 1, 2, with values meaning that a machine has been ADDED (0), REMOVED (1), or UPDATED (2). The machines change a lot less over time than the tasks, but essentially the model here is that the hardware capability should not be considered constant--rather than simply speaking about the cluster capabilities, we need to be able to speak about the capabilities at a particular moment in time. "
     ]
    },
    {
     "cell_type": "markdown",
     "metadata": {},
     "source": [
      "First we want to read in an index that will tell us something about the data files in the directory. This is probably overkill for the single file directory, but we can re-use the same techniques later when working with the task data."
     ]
    },
    {
     "cell_type": "code",
     "collapsed": false,
     "input": [
      "from pandas import read_csv\n",
      "from os import path\n",
      "me_files = [(fn, min(df['time']), max(df['time'])) for fn, df in\n",
      "                             ((fn, read_csv(path.join('machine_events', fn),\n",
      "                                                  header=None, index_col=False, compression='gzip',\n",
      "                                                  names=['time', 'machine_id', 'event_type', 'platform_id', 'cpu', \n",
      "                                                         'mem'])) for fn in listdir('machine_events'))]\n",
      "print me_files\n",
      "                             "
     ],
     "language": "python",
     "metadata": {},
     "outputs": [
      {
       "output_type": "stream",
       "stream": "stdout",
       "text": [
        "[('part-00000-of-00001.csv.gz', 0, 2506135493517)]\n"
       ]
      }
     ],
     "prompt_number": 10
    },
    {
     "cell_type": "code",
     "collapsed": false,
     "input": [
      "from pandas import DataFrame\n",
      "me_files_df = DataFrame(me_files, columns=['fn', 'mintime', 'maxtime'])\n",
      "print me_files_df"
     ],
     "language": "python",
     "metadata": {},
     "outputs": [
      {
       "output_type": "stream",
       "stream": "stdout",
       "text": [
        "                           fn  mintime        maxtime\n",
        "0  part-00000-of-00001.csv.gz        0  2506135493517\n"
       ]
      }
     ],
     "prompt_number": 42
    },
    {
     "cell_type": "markdown",
     "metadata": {},
     "source": [
      "Again, this is kind of overkill since there's only one file, but we can re-use the techniques to load a similar index for task_events later on, and this directory has about 500 very large files in it.\n",
      "\n",
      "Pick a random moment in time somewhere between the first and the last:"
     ]
    },
    {
     "cell_type": "code",
     "collapsed": false,
     "input": [
      "from random import randint\n",
      "moment = randint(min(me_files_df['mintime']), max(me_files_df['maxtime']))\n",
      "print moment"
     ],
     "language": "python",
     "metadata": {},
     "outputs": [
      {
       "output_type": "stream",
       "stream": "stdout",
       "text": [
        "1122750258608\n"
       ]
      }
     ],
     "prompt_number": 10
    },
    {
     "cell_type": "code",
     "collapsed": false,
     "input": [
      "me_files_filtered = list(me_files_df[me_files_df['mintime'] <= moment]['fn'])\n",
      "print me_files_filtered\n"
     ],
     "language": "python",
     "metadata": {},
     "outputs": [
      {
       "output_type": "stream",
       "stream": "stdout",
       "text": [
        "['part-00000-of-00001.csv.gz']\n"
       ]
      }
     ],
     "prompt_number": 16
    },
    {
     "cell_type": "markdown",
     "metadata": {},
     "source": [
      "Okay, so if we pick a moment in time, we can get a list of the files where events happened before that moment in time. Perhaps not the most exciting thing when there is only one file in the directory, but again, this will be useful later. Now we want to get some information about the actual machines that are running from the relevant files."
     ]
    },
    {
     "cell_type": "code",
     "collapsed": false,
     "input": [
      "from pandas import concat\n",
      "machine_events = concat(read_csv(path.join('machine_events', fn),\n",
      "                                                  header=None, index_col=False, compression='gzip',\n",
      "                                                  names=['time', 'machine_id', 'event_type', 'platform_id', 'cpu', \n",
      "                                                         'mem']) for fn in me_files_filtered)\n",
      "machine_events_filtered = machine_events[machine_events['time'] <= moment]\n",
      "print machine_events_filtered"
     ],
     "language": "python",
     "metadata": {},
     "outputs": [
      {
       "output_type": "stream",
       "stream": "stdout",
       "text": [
        "<class 'pandas.core.frame.DataFrame'>\n",
        "Int64Index: 22903 entries, 0 to 22902\n",
        "Data columns (total 6 columns):\n",
        "time           22903  non-null values\n",
        "machine_id     22903  non-null values\n",
        "event_type     22903  non-null values\n",
        "platform_id    22903  non-null values\n",
        "cpu            22887  non-null values\n",
        "mem            22887  non-null values\n",
        "dtypes: float64(2), int64(3), object(1)\n"
       ]
      }
     ],
     "prompt_number": 18
    },
    {
     "cell_type": "markdown",
     "metadata": {},
     "source": [
      "Now we can get machine information by simulating up to the current moment in time..."
     ]
    },
    {
     "cell_type": "code",
     "collapsed": false,
     "input": [
      "machines_dict = {}\n",
      "for index, event in machine_events_filtered.iterrows():\n",
      "    if event['event_type'] in [0, 2]:\n",
      "        machines_dict[event['machine_id']] = {'machine_id' : event['machine_id'], \n",
      "                                              'cpu': event['cpu'], 'mem' : event['mem']}\n",
      "    elif event['event_type'] == 1:\n",
      "        del machines_dict[event['machine_id']]\n",
      "machines_df = DataFrame(machines_dict.values())\n",
      "print machines_df"
     ],
     "language": "python",
     "metadata": {},
     "outputs": [
      {
       "output_type": "stream",
       "stream": "stdout",
       "text": [
        "<class 'pandas.core.frame.DataFrame'>\n",
        "Int64Index: 12450 entries, 0 to 12449\n",
        "Data columns (total 3 columns):\n",
        "cpu           12450  non-null values\n",
        "machine_id    12450  non-null values\n",
        "mem           12450  non-null values\n",
        "dtypes: float64(2), int64(1)\n"
       ]
      }
     ],
     "prompt_number": 25
    },
    {
     "cell_type": "markdown",
     "metadata": {},
     "source": [
      "The pandas library includes a few useful functions for visualization."
     ]
    },
    {
     "cell_type": "code",
     "collapsed": false,
     "input": [
      "print machines_df['cpu'].hist()"
     ],
     "language": "python",
     "metadata": {},
     "outputs": [
      {
       "output_type": "stream",
       "stream": "stdout",
       "text": [
        "Axes(0.125,0.125;0.775x0.775)\n"
       ]
      },
      {
       "metadata": {},
       "output_type": "display_data",
       "png": "[encoded data removed]",
       "text": [
        "<matplotlib.figure.Figure at 0x4d94fd0>"
       ]
      }
     ],
     "prompt_number": 28
    },
    {
     "cell_type": "code",
     "collapsed": false,
     "input": [
      "print machines_df['mem'].hist()"
     ],
     "language": "python",
     "metadata": {},
     "outputs": [
      {
       "output_type": "stream",
       "stream": "stdout",
       "text": [
        "Axes(0.125,0.125;0.775x0.775)\n"
       ]
      },
      {
       "metadata": {},
       "output_type": "display_data",
       "png": "[encoded data removed]",
       "text": [
        "<matplotlib.figure.Figure at 0x46ab890>"
       ]
      }
     ],
     "prompt_number": 29
    },
    {
     "cell_type": "code",
     "collapsed": false,
     "input": [
      "print machines_df.cov()"
     ],
     "language": "python",
     "metadata": {},
     "outputs": [
      {
       "output_type": "stream",
       "stream": "stdout",
       "text": [
        "                     cpu    machine_id           mem\n",
        "cpu         1.563686e-02  1.117383e+08  1.733244e-02\n",
        "machine_id  1.117383e+08  2.815267e+18  1.522135e+08\n",
        "mem         1.733244e-02  1.522135e+08  4.059376e-02\n"
       ]
      }
     ],
     "prompt_number": 33
    },
    {
     "cell_type": "markdown",
     "metadata": {},
     "source": [
      "So, at this point in time, most machines have around 0.5 for cpus and memory alike, but memory values show a bit more variety, and there's a significant plurality with memory around 25%. \n",
      "\n",
      "Let's repeat the same exercise, but for tasks. Consulting the schema file again, I can see that the task event csv files contain the fields 'time', 'missing info', 'job ID', 'task index', 'machine_id', 'event type', 'user', 'scheduling class', 'priority', 'cpu request', 'memory request', 'disk space request', 'different machines restriction'. The most important for my purposes are probably 'time', 'event type', 'cpu request', and 'memory request'. The 'job ID' and 'task index' fields are needed to keep track of the evolution of a given task over time. The 'disk space request' field sounds interesting, but note that there is no corresponding disk-space field for a particular machine. The 'different machines restriction' field looks interesting, but I'm going to ignore it for now.\n",
      "\n",
      "Possible task event types are SUBMIT(0), SCHEDULE(1), EVICT(2), FAIL(3), FINISH(4), KILL(5), LOST(6), UPDATE_PENDING(7) and UPDATE_RUNNING(8). The important point here is that on [0, 7, 8] we need to add/update a task, while on [2,3,4,5,6] it should be removed from the system."
     ]
    },
    {
     "cell_type": "code",
     "collapsed": false,
     "input": [
      "te_files = [(fn, min(df['time']), max(df['time'])) for fn, df in\n",
      "                             ((fn, read_csv(path.join('task_events', fn),\n",
      "                                                  header=None, index_col=False, compression='gzip',\n",
      "                                                  names=['time', 'missing', 'job_id', 'task_idx', 'machine_id', \n",
      "                                                         'event_type', 'user', 'sched_cls', 'priority', 'cpu', \n",
      "                                                         'mem', 'disk', 'restriction']\n",
      "                                                  )) for fn in listdir('task_events'))]\n",
      "te_files_df = DataFrame(te_files, columns=['fn', 'mintime', 'maxtime'])\n",
      "print te_files_df"
     ],
     "language": "python",
     "metadata": {},
     "outputs": [
      {
       "output_type": "stream",
       "stream": "stdout",
       "text": [
        "<class 'pandas.core.frame.DataFrame'>\n",
        "Int64Index: 500 entries, 0 to 499\n",
        "Data columns (total 3 columns):\n",
        "fn         500  non-null values\n",
        "mintime    500  non-null values\n",
        "maxtime    500  non-null values\n",
        "dtypes: int64(1), object(2)\n"
       ]
      }
     ],
     "prompt_number": 45
    },
    {
     "cell_type": "markdown",
     "metadata": {},
     "source": [
      "Let's see how many files we'll need to parse to get to our selected moment in time:"
     ]
    },
    {
     "cell_type": "code",
     "collapsed": false,
     "input": [
      "te_files_df = DataFrame(sorted(te_files), columns=['fn', 'mintime', 'maxtime'])\n",
      "te_files_filtered = list(te_files_df[te_files_df['mintime'] <= moment]['fn'])\n",
      "print len(te_files_filtered)"
     ],
     "language": "python",
     "metadata": {},
     "outputs": [
      {
       "output_type": "stream",
       "stream": "stdout",
       "text": [
        "224\n"
       ]
      }
     ],
     "prompt_number": 49
    },
    {
     "cell_type": "code",
     "collapsed": false,
     "input": [
      "tasks_dict = {}\n",
      "for fn in te_files_filtered:\n",
      "    task_events = read_csv(path.join('task_events', fn), header=None, index_col=False, compression='gzip', \n",
      "                           names=['time', 'missing', 'job_id', 'task_idx', 'machine_id', 'event_type', 'user', \n",
      "                                  'sched_cls', 'priority', 'cpu', 'mem', 'disk', 'restriction'])\n",
      "    task_events_filtered = task_events[task_events['time'] <= moment]\n",
      "    for index, event in task_events_filtered.iterrows():\n",
      "        if event['event_type'] in [0, 7, 8]:\n",
      "            tasks_dict[(event['job_id'], event['task_idx'])] = {'task_id' : (event['job_id'], event['task_idx']),\n",
      "                                                                'machine_id' : event['machine_id'],\n",
      "                                                                'cpu' : event['cpu'], 'mem' : event['mem']}\n",
      "        elif event['event_type'] in [2, 3, 4, 5, 6]:\n",
      "            del tasks_dict[(event['job_id'], event['task_idx'])]\n",
      "tasks_df = DataFrame(tasks_dict.values())\n",
      "print tasks_df"
     ],
     "language": "python",
     "metadata": {},
     "outputs": [
      {
       "output_type": "stream",
       "stream": "stdout",
       "text": [
        "<class 'pandas.core.frame.DataFrame'>\n",
        "Int64Index: 130111 entries, 0 to 130110\n",
        "Data columns (total 4 columns):\n",
        "cpu           130039  non-null values\n",
        "machine_id    32284  non-null values\n",
        "mem           130039  non-null values\n",
        "task_id       130111  non-null values\n",
        "dtypes: float64(3), object(1)\n"
       ]
      }
     ],
     "prompt_number": 50
    },
    {
     "cell_type": "code",
     "collapsed": false,
     "input": [
      "print min(te_files_df['mintime']), max(te_files_df['maxtime'])"
     ],
     "language": "python",
     "metadata": {},
     "outputs": [
      {
       "output_type": "stream",
       "stream": "stdout",
       "text": [
        "0 2506199602822\n"
       ]
      }
     ],
     "prompt_number": 51
    },
    {
     "cell_type": "code",
     "collapsed": false,
     "input": [
      "tasks_df['cpu'].hist()"
     ],
     "language": "python",
     "metadata": {},
     "outputs": [
      {
       "metadata": {},
       "output_type": "pyout",
       "prompt_number": 52,
       "text": [
        "<matplotlib.axes.AxesSubplot at 0x46ad890>"
       ]
      },
      {
       "metadata": {},
       "output_type": "display_data",
       "png": "[encoded data removed]",
       "text": [
        "<matplotlib.figure.Figure at 0x4d623d0>"
       ]
      }
     ],
     "prompt_number": 52
    },
    {
     "cell_type": "code",
     "collapsed": false,
     "input": [
      "tasks_df['mem'].hist()"
     ],
     "language": "python",
     "metadata": {},
     "outputs": [
      {
       "metadata": {},
       "output_type": "pyout",
       "prompt_number": 53,
       "text": [
        "<matplotlib.axes.AxesSubplot at 0x4d5fd90>"
       ]
      },
      {
       "metadata": {},
       "output_type": "display_data",
       "png": "[encoded data removed]",
       "text": [
        "<matplotlib.figure.Figure at 0x81ffa90>"
       ]
      }
     ],
     "prompt_number": 53
    },
    {
     "cell_type": "code",
     "collapsed": false,
     "input": [
      "tasks_df_filtered = tasks_df[(tasks_df['cpu'] > 0.0) | (tasks_df['mem'] > 0.0)]"
     ],
     "language": "python",
     "metadata": {},
     "outputs": [],
     "prompt_number": 57
    },
    {
     "cell_type": "code",
     "collapsed": false,
     "input": [
      "print tasks_df_filtered"
     ],
     "language": "python",
     "metadata": {},
     "outputs": [
      {
       "output_type": "stream",
       "stream": "stdout",
       "text": [
        "<class 'pandas.core.frame.DataFrame'>\n",
        "Int64Index: 130037 entries, 0 to 130110\n",
        "Data columns (total 4 columns):\n",
        "cpu           130037  non-null values\n",
        "machine_id    32217  non-null values\n",
        "mem           130037  non-null values\n",
        "task_id       130037  non-null values\n",
        "dtypes: float64(3), object(1)\n"
       ]
      }
     ],
     "prompt_number": 58
    },
    {
     "cell_type": "code",
     "collapsed": false,
     "input": [
      "machine_ids_1 = set(machines_df['machine_id'])\n",
      "machine_ids_2 = set(tasks_df_filtered['machine_id'])\n",
      "print len(machine_ids_1), len(machine_ids_2)"
     ],
     "language": "python",
     "metadata": {},
     "outputs": [
      {
       "output_type": "stream",
       "stream": "stdout",
       "text": [
        "12450 108912\n"
       ]
      }
     ],
     "prompt_number": 60
    },
    {
     "cell_type": "code",
     "collapsed": false,
     "input": [
      "print len(machine_ids_1 & machine_ids_2), len(machine_ids_2 - machine_ids_1), len(machine_ids_1 | machine_ids_2)"
     ],
     "language": "python",
     "metadata": {},
     "outputs": [],
     "prompt_number": "*"
    },
    {
     "cell_type": "code",
     "collapsed": false,
     "input": [],
     "language": "python",
     "metadata": {},
     "outputs": []
    }
   ],
   "metadata": {}
  }
 ]
}