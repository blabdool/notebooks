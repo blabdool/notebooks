{
 "metadata": {
  "name": ""
 },
 "nbformat": 3,
 "nbformat_minor": 0,
 "worksheets": [
  {
   "cells": [
    {
     "cell_type": "code",
     "collapsed": false,
     "input": [
      "from os import listdir, chdir\n",
      "chdir('/home/marklee/Projects/sample-google-dataset')\n",
      "print listdir('.')"
     ],
     "language": "python",
     "metadata": {},
     "outputs": [
      {
       "output_type": "stream",
       "stream": "stdout",
       "text": [
        "['usage_tasks.txt', 'bin', '.git', '.ipynb_checkpoints', 'First Steps Exploring the Google Cluster dataset with iPython.ipynb', 'First_Steps_Exploring_the_Google_Cluster_dataset_with_iPython.html', 'scripts', 'event_tasks.txt', 'metadata', 'google-clusterdata-2011-1', 'First_Steps_Exploring_the_Google_Cluster_dataset_with_iPython_files']\n"
       ]
      }
     ],
     "prompt_number": 6
    },
    {
     "cell_type": "code",
     "collapsed": false,
     "input": [],
     "language": "python",
     "metadata": {},
     "outputs": []
    }
   ],
   "metadata": {}
  }
 ]
}