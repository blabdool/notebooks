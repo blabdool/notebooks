{
 "metadata": {
  "name": ""
 },
 "nbformat": 3,
 "nbformat_minor": 0,
 "worksheets": [
  {
   "cells": [
    {
     "cell_type": "code",
     "collapsed": false,
     "input": [
      "from pydoe import compose\n",
      "parameters = {\n",
      "              'num_bins': { 'values' : [ 512 ] },\n",
      "              'num_items': { 'values' : [ 2000, 2500, 3000, 3500, 4000, 4500, 5000, 5500 ] },\n",
      "              'num_dimensions': { 'values' : [ 1, 2, 3, 4 ] },\n",
      "              'slack': { 'values' : [ 0.2, 0.3, 0.4, 0.5, 0.6, 0.7, 0.8, 0.9 ] },\n",
      "              'cov': { 'values' :[ 0.00, 0.15, 0.30, 0.45, 0.60, 0.75, 0.90, 1.05 ] },\n",
      "              'split': { 'values' :[ 1, 2, 3, 4, 5, 6, 7, 8 ] }}\n",
      "probspecs = compose(\n",
      "    'file:/home/marklee/Projects/doescripts2/oadir/oa.64.9.8.2.txt', parameters)"
     ],
     "language": "python",
     "metadata": {},
     "outputs": [],
     "prompt_number": 1
    },
    {
     "cell_type": "code",
     "collapsed": false,
     "input": [
      "from dfrs import gen_linear_prob\n",
      "problems = [gen_linear_prob(seed=ps['index'], **ps) for ps in probspecs]"
     ],
     "language": "python",
     "metadata": {},
     "outputs": [],
     "prompt_number": 2
    },
    {
     "cell_type": "code",
     "collapsed": false,
     "input": [
      "algorithms = [\n",
      "              { 'pack' : 'pack_by_bins', 'select' : 'a:maxratio', 'itemsort' : 'd:lnorm', 'binsort' : 'd:maxratio' },\n",
      "              { 'pack' : 'pack_by_bins', 'select' : 'a:imaxratio', 'itemsort' : 'd:lnorm', 'binsort' : 'd:imaxratio' },\n",
      "              { 'pack' : 'pack_by_items', 'select' : 'none', 'itemsort' : 'd:sum', 'binsort' : 'a:sum' },\n",
      "              { 'pack' : 'pack_by_items', 'select' : 'none', 'itemsort' : 'd:lnorm', 'binsort' : 'a:lnorm' },\n",
      "              { 'pack' : 'pack_by_bins', 'select' : 'a:sum', 'itemsort' : 'd:sum', 'binsort' : 'a:sum' },\n",
      "              { 'pack' : 'pack_by_bins', 'select' : 'a:lnorm', 'itemsort' : 'd:lnorm', 'binsort' : 'a:lnorm' },\n",
      "              { 'pack' : 'pack_by_bins', 'select' : 'pp', 'itemsort' : 'd:sum', 'binsort' : 'a:sum' },\n",
      "              { 'pack' : 'pack_by_bins', 'select' : 'pp:w=2', 'itemsort' : 'd:sum', 'binsort' : 'a:sum' },\n",
      "]"
     ],
     "language": "python",
     "metadata": {},
     "outputs": [],
     "prompt_number": 3
    },
    {
     "cell_type": "code",
     "collapsed": false,
     "input": [
      "from itertools import product\n"
     ],
     "language": "python",
     "metadata": {},
     "outputs": []
    }
   ],
   "metadata": {}
  }
 ]
}