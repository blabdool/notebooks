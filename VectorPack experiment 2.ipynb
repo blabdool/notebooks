{
 "metadata": {
  "name": ""
 },
 "nbformat": 3,
 "nbformat_minor": 0,
 "worksheets": [
  {
   "cells": [
    {
     "cell_type": "code",
     "collapsed": false,
     "input": [
      "from pydoe import compose\n",
      "parameters = {\n",
      "              'num_bins': { 'values' : [ 512 ] },\n",
      "              'num_items': { 'values' : [ 2000, 2500, 3000, 3500, 4000, 4500, 5000, 5500 ] },\n",
      "              'num_dimensions': { 'values' : [ 1, 2, 3, 4 ] },\n",
      "              'slack': { 'values' : [ 0.2, 0.3, 0.4, 0.5, 0.6, 0.7, 0.8, 0.9 ] },\n",
      "              'cov': { 'values' :[ 0.00, 0.15, 0.30, 0.45, 0.60, 0.75, 0.90, 1.05 ] },\n",
      "              'split': { 'values' :[ 1, 2, 3, 4, 5, 6, 7, 8 ] }}\n",
      "probspecs = compose(\n",
      "    'file:/home/marklee/Projects/doescripts2/oadir/oa.64.9.8.2.txt', parameters)\n",
      "for probspec in probspecs:\n",
      "    print(probspec)"
     ],
     "language": "python",
     "metadata": {},
     "outputs": [
      {
       "output_type": "stream",
       "stream": "stdout",
       "text": [
        "{'num_bins': 512, 'split': 1, 'num_dimensions': 1, 'num_items': 2000, 'index': 0, 'cov': 0.0, 'slack': 0.2}\n",
        "{'num_bins': 512, 'split': 2, 'num_dimensions': 2, 'num_items': 3000, 'index': 1, 'cov': 0.45, 'slack': 0.6}\n",
        "{'num_bins': 512, 'split': 3, 'num_dimensions': 3, 'num_items': 3500, 'index': 2, 'cov': 0.6, 'slack': 0.7}\n",
        "{'num_bins': 512, 'split': 4, 'num_dimensions': 4, 'num_items': 4000, 'index': 3, 'cov': 0.75, 'slack': 0.8}\n",
        "{'num_bins': 512, 'split': 5, 'num_dimensions': 1, 'num_items': 4500, 'index': 4, 'cov': 0.9, 'slack': 0.9}\n",
        "{'num_bins': 512, 'split': 6, 'num_dimensions': 2, 'num_items': 5000, 'index': 5, 'cov': 1.05, 'slack': 0.3}\n",
        "{'num_bins': 512, 'split': 7, 'num_dimensions': 3, 'num_items': 5500, 'index': 6, 'cov': 0.15, 'slack': 0.4}\n",
        "{'num_bins': 512, 'split': 8, 'num_dimensions': 4, 'num_items': 2500, 'index': 7, 'cov': 0.3, 'slack': 0.5}\n",
        "{'num_bins': 512, 'split': 1, 'num_dimensions': 2, 'num_items': 2500, 'index': 8, 'cov': 0.15, 'slack': 0.3}\n",
        "{'num_bins': 512, 'split': 2, 'num_dimensions': 1, 'num_items': 4000, 'index': 9, 'cov': 1.05, 'slack': 0.4}\n",
        "{'num_bins': 512, 'split': 3, 'num_dimensions': 1, 'num_items': 5500, 'index': 10, 'cov': 0.3, 'slack': 0.8}\n",
        "{'num_bins': 512, 'split': 4, 'num_dimensions': 4, 'num_items': 3000, 'index': 11, 'cov': 0.9, 'slack': 0.7}\n",
        "{'num_bins': 512, 'split': 5, 'num_dimensions': 3, 'num_items': 5000, 'index': 12, 'cov': 0.75, 'slack': 0.5}\n",
        "{'num_bins': 512, 'split': 6, 'num_dimensions': 3, 'num_items': 4500, 'index': 13, 'cov': 0.45, 'slack': 0.2}\n",
        "{'num_bins': 512, 'split': 7, 'num_dimensions': 2, 'num_items': 3500, 'index': 14, 'cov': 0.0, 'slack': 0.6}\n",
        "{'num_bins': 512, 'split': 8, 'num_dimensions': 4, 'num_items': 2000, 'index': 15, 'cov': 0.6, 'slack': 0.9}\n",
        "{'num_bins': 512, 'split': 1, 'num_dimensions': 3, 'num_items': 3000, 'index': 16, 'cov': 0.3, 'slack': 0.4}\n",
        "{'num_bins': 512, 'split': 2, 'num_dimensions': 1, 'num_items': 2000, 'index': 17, 'cov': 0.75, 'slack': 0.3}\n",
        "{'num_bins': 512, 'split': 3, 'num_dimensions': 1, 'num_items': 4500, 'index': 18, 'cov': 0.15, 'slack': 0.5}\n",
        "{'num_bins': 512, 'split': 4, 'num_dimensions': 2, 'num_items': 2500, 'index': 19, 'cov': 0.45, 'slack': 0.9}\n",
        "{'num_bins': 512, 'split': 5, 'num_dimensions': 2, 'num_items': 3500, 'index': 20, 'cov': 1.05, 'slack': 0.8}\n",
        "{'num_bins': 512, 'split': 6, 'num_dimensions': 4, 'num_items': 5500, 'index': 21, 'cov': 0.9, 'slack': 0.6}\n",
        "{'num_bins': 512, 'split': 7, 'num_dimensions': 4, 'num_items': 5000, 'index': 22, 'cov': 0.6, 'slack': 0.2}\n",
        "{'num_bins': 512, 'split': 8, 'num_dimensions': 3, 'num_items': 4000, 'index': 23, 'cov': 0.0, 'slack': 0.7}\n",
        "{'num_bins': 512, 'split': 1, 'num_dimensions': 4, 'num_items': 3500, 'index': 24, 'cov': 0.45, 'slack': 0.5}\n",
        "{'num_bins': 512, 'split': 2, 'num_dimensions': 4, 'num_items': 4500, 'index': 25, 'cov': 0.0, 'slack': 0.8}\n",
        "{'num_bins': 512, 'split': 3, 'num_dimensions': 2, 'num_items': 2000, 'index': 26, 'cov': 0.9, 'slack': 0.4}\n",
        "{'num_bins': 512, 'split': 4, 'num_dimensions': 1, 'num_items': 5000, 'index': 27, 'cov': 0.3, 'slack': 0.6}\n",
        "{'num_bins': 512, 'split': 5, 'num_dimensions': 3, 'num_items': 3000, 'index': 28, 'cov': 0.6, 'slack': 0.3}\n",
        "{'num_bins': 512, 'split': 6, 'num_dimensions': 3, 'num_items': 4000, 'index': 29, 'cov': 0.15, 'slack': 0.9}\n",
        "{'num_bins': 512, 'split': 7, 'num_dimensions': 1, 'num_items': 2500, 'index': 30, 'cov': 1.05, 'slack': 0.7}\n",
        "{'num_bins': 512, 'split': 8, 'num_dimensions': 2, 'num_items': 5500, 'index': 31, 'cov': 0.75, 'slack': 0.2}\n",
        "{'num_bins': 512, 'split': 1, 'num_dimensions': 1, 'num_items': 4000, 'index': 32, 'cov': 0.6, 'slack': 0.6}\n",
        "{'num_bins': 512, 'split': 2, 'num_dimensions': 3, 'num_items': 2500, 'index': 33, 'cov': 0.9, 'slack': 0.2}\n",
        "{'num_bins': 512, 'split': 3, 'num_dimensions': 2, 'num_items': 5000, 'index': 34, 'cov': 0.0, 'slack': 0.9}\n",
        "{'num_bins': 512, 'split': 4, 'num_dimensions': 3, 'num_items': 2000, 'index': 35, 'cov': 1.05, 'slack': 0.5}\n",
        "{'num_bins': 512, 'split': 5, 'num_dimensions': 1, 'num_items': 5500, 'index': 36, 'cov': 0.45, 'slack': 0.7}\n",
        "{'num_bins': 512, 'split': 6, 'num_dimensions': 4, 'num_items': 3500, 'index': 37, 'cov': 0.75, 'slack': 0.4}\n",
        "{'num_bins': 512, 'split': 7, 'num_dimensions': 4, 'num_items': 4500, 'index': 38, 'cov': 0.3, 'slack': 0.3}\n",
        "{'num_bins': 512, 'split': 8, 'num_dimensions': 2, 'num_items': 3000, 'index': 39, 'cov': 0.15, 'slack': 0.8}\n",
        "{'num_bins': 512, 'split': 1, 'num_dimensions': 2, 'num_items': 4500, 'index': 40, 'cov': 0.75, 'slack': 0.7}\n",
        "{'num_bins': 512, 'split': 2, 'num_dimensions': 3, 'num_items': 3500, 'index': 41, 'cov': 0.3, 'slack': 0.9}\n",
        "{'num_bins': 512, 'split': 3, 'num_dimensions': 4, 'num_items': 3000, 'index': 42, 'cov': 1.05, 'slack': 0.2}\n",
        "{'num_bins': 512, 'split': 4, 'num_dimensions': 3, 'num_items': 5500, 'index': 43, 'cov': 0.0, 'slack': 0.3}\n",
        "{'num_bins': 512, 'split': 5, 'num_dimensions': 4, 'num_items': 2000, 'index': 44, 'cov': 0.15, 'slack': 0.6}\n",
        "{'num_bins': 512, 'split': 6, 'num_dimensions': 1, 'num_items': 2500, 'index': 45, 'cov': 0.6, 'slack': 0.8}\n",
        "{'num_bins': 512, 'split': 7, 'num_dimensions': 2, 'num_items': 4000, 'index': 46, 'cov': 0.9, 'slack': 0.5}\n",
        "{'num_bins': 512, 'split': 8, 'num_dimensions': 1, 'num_items': 5000, 'index': 47, 'cov': 0.45, 'slack': 0.4}\n",
        "{'num_bins': 512, 'split': 1, 'num_dimensions': 3, 'num_items': 5000, 'index': 48, 'cov': 0.9, 'slack': 0.8}\n",
        "{'num_bins': 512, 'split': 2, 'num_dimensions': 2, 'num_items': 5500, 'index': 49, 'cov': 0.6, 'slack': 0.5}\n",
        "{'num_bins': 512, 'split': 3, 'num_dimensions': 4, 'num_items': 4000, 'index': 50, 'cov': 0.45, 'slack': 0.3}\n",
        "{'num_bins': 512, 'split': 4, 'num_dimensions': 1, 'num_items': 3500, 'index': 51, 'cov': 0.15, 'slack': 0.2}\n",
        "{'num_bins': 512, 'split': 5, 'num_dimensions': 4, 'num_items': 2500, 'index': 52, 'cov': 0.0, 'slack': 0.4}\n",
        "{'num_bins': 512, 'split': 6, 'num_dimensions': 2, 'num_items': 2000, 'index': 53, 'cov': 0.3, 'slack': 0.7}\n",
        "{'num_bins': 512, 'split': 7, 'num_dimensions': 1, 'num_items': 3000, 'index': 54, 'cov': 0.75, 'slack': 0.9}\n",
        "{'num_bins': 512, 'split': 8, 'num_dimensions': 3, 'num_items': 4500, 'index': 55, 'cov': 1.05, 'slack': 0.6}\n",
        "{'num_bins': 512, 'split': 1, 'num_dimensions': 4, 'num_items': 5500, 'index': 56, 'cov': 1.05, 'slack': 0.9}\n",
        "{'num_bins': 512, 'split': 2, 'num_dimensions': 4, 'num_items': 5000, 'index': 57, 'cov': 0.15, 'slack': 0.7}\n",
        "{'num_bins': 512, 'split': 3, 'num_dimensions': 3, 'num_items': 2500, 'index': 58, 'cov': 0.75, 'slack': 0.6}\n",
        "{'num_bins': 512, 'split': 4, 'num_dimensions': 2, 'num_items': 4500, 'index': 59, 'cov': 0.6, 'slack': 0.4}\n",
        "{'num_bins': 512, 'split': 5, 'num_dimensions': 2, 'num_items': 4000, 'index': 60, 'cov': 0.3, 'slack': 0.2}\n",
        "{'num_bins': 512, 'split': 6, 'num_dimensions': 1, 'num_items': 3000, 'index': 61, 'cov': 0.0, 'slack': 0.5}\n",
        "{'num_bins': 512, 'split': 7, 'num_dimensions': 3, 'num_items': 2000, 'index': 62, 'cov': 0.45, 'slack': 0.8}\n",
        "{'num_bins': 512, 'split': 8, 'num_dimensions': 1, 'num_items': 3500, 'index': 63, 'cov': 0.9, 'slack': 0.3}\n"
       ]
      }
     ],
     "prompt_number": 1
    },
    {
     "cell_type": "code",
     "collapsed": false,
     "input": [
      "from dfrs import gen_linear_prob\n",
      "problems = [gen_linear_prob(seed=ps['index'], **ps) for ps in probspecs]"
     ],
     "language": "python",
     "metadata": {},
     "outputs": [],
     "prompt_number": 2
    },
    {
     "cell_type": "code",
     "collapsed": false,
     "input": [
      "algorithms = [\n",
      "              { 'pack' : 'pack_by_bins', 'select' : 'a:maxratio', 'itemsort' : 'd:lnorm', 'binsort' : 'd:maxratio' },\n",
      "              { 'pack' : 'pack_by_bins', 'select' : 'a:imaxratio', 'itemsort' : 'd:lnorm', 'binsort' : 'd:imaxratio' },\n",
      "              { 'pack' : 'pack_by_items', 'select' : 'none', 'itemsort' : 'd:sum', 'binsort' : 'a:sum' },\n",
      "              { 'pack' : 'pack_by_items', 'select' : 'none', 'itemsort' : 'd:lnorm', 'binsort' : 'a:lnorm' },\n",
      "              { 'pack' : 'pack_by_bins', 'select' : 'a:sum', 'itemsort' : 'd:sum', 'binsort' : 'a:sum' },\n",
      "              { 'pack' : 'pack_by_bins', 'select' : 'a:lnorm', 'itemsort' : 'd:lnorm', 'binsort' : 'a:lnorm' },\n",
      "              { 'pack' : 'pack_by_bins', 'select' : 'pp', 'itemsort' : 'd:sum', 'binsort' : 'a:sum' },\n",
      "              { 'pack' : 'pack_by_bins', 'select' : 'pp:w=2', 'itemsort' : 'd:sum', 'binsort' : 'a:sum' },\n",
      "]"
     ],
     "language": "python",
     "metadata": {},
     "outputs": [],
     "prompt_number": 3
    },
    {
     "cell_type": "code",
     "collapsed": false,
     "input": [
      "from IPython.parallel import Client\n",
      "c = Client()\n",
      "v = c[:]"
     ],
     "language": "python",
     "metadata": {},
     "outputs": [],
     "prompt_number": 4
    },
    {
     "cell_type": "code",
     "collapsed": false,
     "input": [
      "%%time\n",
      "from itertools import product\n",
      "from multiprocessing import Pool\n",
      "from dfrs import vpsolver\n",
      "p = Pool()\n",
      "results = list(p.map(lambda x: vpsolver(problem=x[0], split=x[0]['split'], **x[1]), product(problems, algorithms)))"
     ],
     "language": "python",
     "metadata": {},
     "outputs": [],
     "prompt_number": "*"
    },
    {
     "cell_type": "code",
     "collapsed": false,
     "input": [
      "print(\"Hello!\")"
     ],
     "language": "python",
     "metadata": {},
     "outputs": [],
     "prompt_number": "*"
    },
    {
     "cell_type": "code",
     "collapsed": false,
     "input": [],
     "language": "python",
     "metadata": {},
     "outputs": []
    }
   ],
   "metadata": {}
  }
 ]
}